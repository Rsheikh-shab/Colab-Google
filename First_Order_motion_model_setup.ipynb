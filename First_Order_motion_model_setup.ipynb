{
  "nbformat": 4,
  "nbformat_minor": 0,
  "metadata": {
    "colab": {
      "name": "First_Order_motion_model_setup.ipynb",
      "provenance": [],
      "collapsed_sections": [],
      "include_colab_link": true
    },
    "kernelspec": {
      "name": "python3",
      "display_name": "Python 3"
    },
    "accelerator": "GPU"
  },
  "cells": [
    {
      "cell_type": "markdown",
      "metadata": {
        "id": "view-in-github",
        "colab_type": "text"
      },
      "source": [
        "<a href=\"https://colab.research.google.com/github/Rsheikh-shab/Colab-Google/blob/master/First_Order_motion_model_setup.ipynb\" target=\"_parent\"><img src=\"https://colab.research.google.com/assets/colab-badge.svg\" alt=\"Open In Colab\"/></a>"
      ]
    },
    {
      "cell_type": "markdown",
      "metadata": {
        "id": "cdO_RxQZLahB",
        "colab_type": "text"
      },
      "source": [
        "# Demo for paper \"First Order Motion Model for Image Animation\""
      ]
    },
    {
      "cell_type": "markdown",
      "metadata": {
        "id": "GCDNKsEGLtR6",
        "colab_type": "text"
      },
      "source": [
        "**Mounting Google drive on colab**"
      ]
    },
    {
      "cell_type": "code",
      "metadata": {
        "id": "i8QvhkcjL5ny",
        "colab_type": "code",
        "colab": {
          "base_uri": "https://localhost:8080/",
          "height": 122
        },
        "outputId": "eb9aceac-3dde-45e0-bb20-d562dfe10ab8"
      },
      "source": [
        "from google.colab import drive\n",
        "drive.mount('/content/gdrive')"
      ],
      "execution_count": null,
      "outputs": [
        {
          "output_type": "stream",
          "text": [
            "Go to this URL in a browser: https://accounts.google.com/o/oauth2/auth?client_id=947318989803-6bn6qk8qdgf4n4g3pfee6491hc0brc4i.apps.googleusercontent.com&redirect_uri=urn%3aietf%3awg%3aoauth%3a2.0%3aoob&response_type=code&scope=email%20https%3a%2f%2fwww.googleapis.com%2fauth%2fdocs.test%20https%3a%2f%2fwww.googleapis.com%2fauth%2fdrive%20https%3a%2f%2fwww.googleapis.com%2fauth%2fdrive.photos.readonly%20https%3a%2f%2fwww.googleapis.com%2fauth%2fpeopleapi.readonly\n",
            "\n",
            "Enter your authorization code:\n",
            "··········\n",
            "Mounted at /content/gdrive\n"
          ],
          "name": "stdout"
        }
      ]
    },
    {
      "cell_type": "markdown",
      "metadata": {
        "id": "3qSCsucBMESk",
        "colab_type": "text"
      },
      "source": [
        "Move to the your **Google drive**"
      ]
    },
    {
      "cell_type": "code",
      "metadata": {
        "id": "occaA6CwMbl3",
        "colab_type": "code",
        "colab": {
          "base_uri": "https://localhost:8080/",
          "height": 34
        },
        "outputId": "148366aa-a180-436c-dbc2-92f4ec4deba2"
      },
      "source": [
        "cd gdrive/My\\ Drive"
      ],
      "execution_count": null,
      "outputs": [
        {
          "output_type": "stream",
          "text": [
            "/content/gdrive/My Drive\n"
          ],
          "name": "stdout"
        }
      ]
    },
    {
      "cell_type": "markdown",
      "metadata": {
        "id": "jBZIhH2NfXns",
        "colab_type": "text"
      },
      "source": [
        "creating **dir**"
      ]
    },
    {
      "cell_type": "code",
      "metadata": {
        "id": "m5YAYmEjefTB",
        "colab_type": "code",
        "colab": {}
      },
      "source": [
        "mkdir deepfake"
      ],
      "execution_count": null,
      "outputs": []
    },
    {
      "cell_type": "code",
      "metadata": {
        "id": "ei13NJdNMo5i",
        "colab_type": "code",
        "colab": {
          "base_uri": "https://localhost:8080/",
          "height": 34
        },
        "outputId": "39995c8d-cd8d-4c7d-c8ca-4c67db1ec7c9"
      },
      "source": [
        "cd deepfake/"
      ],
      "execution_count": null,
      "outputs": [
        {
          "output_type": "stream",
          "text": [
            "/content/gdrive/My Drive/deepfake\n"
          ],
          "name": "stdout"
        }
      ]
    },
    {
      "cell_type": "markdown",
      "metadata": {
        "id": "RRCkwrZxD-kR",
        "colab_type": "text"
      },
      "source": [
        "clone this **repo**"
      ]
    },
    {
      "cell_type": "code",
      "metadata": {
        "id": "UCMFMJV7K-ag",
        "colab_type": "code",
        "colab": {
          "base_uri": "https://localhost:8080/",
          "height": 34
        },
        "outputId": "f9de7ae8-260f-4235-fb47-34e8166494ca"
      },
      "source": [
        "!git clone https://github.com/AliaksandrSiarohin/first-order-model"
      ],
      "execution_count": null,
      "outputs": [
        {
          "output_type": "stream",
          "text": [
            "fatal: destination path 'first-order-model' already exists and is not an empty directory.\n"
          ],
          "name": "stdout"
        }
      ]
    },
    {
      "cell_type": "markdown",
      "metadata": {
        "id": "0SSJEPx3ELVI",
        "colab_type": "text"
      },
      "source": [
        "move the First order model dir\n"
      ]
    },
    {
      "cell_type": "code",
      "metadata": {
        "id": "PBp6l_4bBYUL",
        "colab_type": "code",
        "colab": {
          "base_uri": "https://localhost:8080/",
          "height": 34
        },
        "outputId": "fb0cc4ed-dfe8-4222-e62a-50003415c055"
      },
      "source": [
        "cd first-order-model"
      ],
      "execution_count": null,
      "outputs": [
        {
          "output_type": "stream",
          "text": [
            "/content/gdrive/My Drive/deepfake/first-order-model\n"
          ],
          "name": "stdout"
        }
      ]
    },
    {
      "cell_type": "code",
      "metadata": {
        "id": "zI4Y4ph4EkB6",
        "colab_type": "code",
        "colab": {
          "base_uri": "https://localhost:8080/",
          "height": 136
        },
        "outputId": "2e81b4c4-cb1f-489b-b21c-fc60a5ef9651"
      },
      "source": [
        "ls"
      ],
      "execution_count": null,
      "outputs": [
        {
          "output_type": "stream",
          "text": [
            "animate.py       demo.py             logger.py          run.py\n",
            "augmentation.py  Dockerfile          \u001b[0m\u001b[01;34mmodules\u001b[0m/           \u001b[01;34msup-mat\u001b[0m/\n",
            "\u001b[01;34mconfig\u001b[0m/          \u001b[01;34mface-alignment\u001b[0m/     \u001b[01;34m__pycache__\u001b[0m/       \u001b[01;34msync_batchnorm\u001b[0m/\n",
            "crop.mp4         \u001b[01;34mFiles\u001b[0m/              README.md          train.py\n",
            "crop-video.py    frames_dataset.py   reconstruction.py\n",
            "\u001b[01;34mdata\u001b[0m/            Intro_deepFake.mp4  requirements.txt\n",
            "demo.ipynb       LICENSE.md          result.mp4\n"
          ],
          "name": "stdout"
        }
      ]
    },
    {
      "cell_type": "markdown",
      "metadata": {
        "id": "6pGKn8lnfgaU",
        "colab_type": "text"
      },
      "source": [
        "clone this **face-alignment** **repository**"
      ]
    },
    {
      "cell_type": "code",
      "metadata": {
        "id": "ah2cM8ngEp41",
        "colab_type": "code",
        "colab": {
          "base_uri": "https://localhost:8080/",
          "height": 102
        },
        "outputId": "574e5454-c6eb-4a05-db1a-1b9a76c6f92c"
      },
      "source": [
        "!git clone https://github.com/1adrianb/face-alignment"
      ],
      "execution_count": null,
      "outputs": [
        {
          "output_type": "stream",
          "text": [
            "Cloning into 'face-alignment'...\n",
            "remote: Enumerating objects: 563, done.\u001b[K\n",
            "Receiving objects:   0% (1/563)   \rReceiving objects:   1% (6/563)   \rReceiving objects:   2% (12/563)   \rReceiving objects:   3% (17/563)   \rReceiving objects:   4% (23/563)   \rReceiving objects:   5% (29/563)   \rReceiving objects:   6% (34/563)   \rReceiving objects:   7% (40/563)   \rReceiving objects:   8% (46/563)   \rReceiving objects:   9% (51/563)   \rReceiving objects:  10% (57/563)   \rReceiving objects:  11% (62/563)   \rReceiving objects:  12% (68/563)   \rReceiving objects:  13% (74/563)   \rReceiving objects:  14% (79/563)   \rReceiving objects:  15% (85/563)   \rReceiving objects:  16% (91/563)   \rReceiving objects:  17% (96/563)   \rReceiving objects:  18% (102/563)   \rReceiving objects:  19% (107/563)   \rReceiving objects:  20% (113/563)   \rReceiving objects:  21% (119/563)   \rReceiving objects:  22% (124/563)   \rReceiving objects:  23% (130/563)   \rReceiving objects:  24% (136/563)   \rReceiving objects:  25% (141/563)   \rReceiving objects:  26% (147/563)   \rReceiving objects:  27% (153/563), 1.66 MiB | 3.31 MiB/s   \rReceiving objects:  28% (158/563), 1.66 MiB | 3.31 MiB/s   \rReceiving objects:  29% (164/563), 1.66 MiB | 3.31 MiB/s   \rReceiving objects:  30% (169/563), 1.66 MiB | 3.31 MiB/s   \rReceiving objects:  31% (175/563), 1.66 MiB | 3.31 MiB/s   \rReceiving objects:  32% (181/563), 1.66 MiB | 3.31 MiB/s   \rReceiving objects:  33% (186/563), 1.66 MiB | 3.31 MiB/s   \rReceiving objects:  34% (192/563), 1.66 MiB | 3.31 MiB/s   \rReceiving objects:  35% (198/563), 1.66 MiB | 3.31 MiB/s   \rReceiving objects:  36% (203/563), 1.66 MiB | 3.31 MiB/s   \rReceiving objects:  37% (209/563), 1.66 MiB | 3.31 MiB/s   \rReceiving objects:  38% (214/563), 1.66 MiB | 3.31 MiB/s   \rReceiving objects:  39% (220/563), 1.66 MiB | 3.31 MiB/s   \rReceiving objects:  40% (226/563), 1.66 MiB | 3.31 MiB/s   \rReceiving objects:  41% (231/563), 1.66 MiB | 3.31 MiB/s   \rremote: Total 563 (delta 0), reused 0 (delta 0), pack-reused 563\u001b[K\n",
            "Receiving objects:  42% (237/563), 1.66 MiB | 3.31 MiB/s   \rReceiving objects:  43% (243/563), 1.66 MiB | 3.31 MiB/s   \rReceiving objects:  44% (248/563), 1.66 MiB | 3.31 MiB/s   \rReceiving objects:  45% (254/563), 1.66 MiB | 3.31 MiB/s   \rReceiving objects:  46% (259/563), 1.66 MiB | 3.31 MiB/s   \rReceiving objects:  47% (265/563), 1.66 MiB | 3.31 MiB/s   \rReceiving objects:  48% (271/563), 1.66 MiB | 3.31 MiB/s   \rReceiving objects:  49% (276/563), 1.66 MiB | 3.31 MiB/s   \rReceiving objects:  50% (282/563), 1.66 MiB | 3.31 MiB/s   \rReceiving objects:  51% (288/563), 1.66 MiB | 3.31 MiB/s   \rReceiving objects:  52% (293/563), 1.66 MiB | 3.31 MiB/s   \rReceiving objects:  53% (299/563), 1.66 MiB | 3.31 MiB/s   \rReceiving objects:  54% (305/563), 1.66 MiB | 3.31 MiB/s   \rReceiving objects:  55% (310/563), 1.66 MiB | 3.31 MiB/s   \rReceiving objects:  56% (316/563), 1.66 MiB | 3.31 MiB/s   \rReceiving objects:  57% (321/563), 1.66 MiB | 3.31 MiB/s   \rReceiving objects:  58% (327/563), 1.66 MiB | 3.31 MiB/s   \rReceiving objects:  59% (333/563), 1.66 MiB | 3.31 MiB/s   \rReceiving objects:  60% (338/563), 1.66 MiB | 3.31 MiB/s   \rReceiving objects:  61% (344/563), 1.66 MiB | 3.31 MiB/s   \rReceiving objects:  62% (350/563), 1.66 MiB | 3.31 MiB/s   \rReceiving objects:  63% (355/563), 1.66 MiB | 3.31 MiB/s   \rReceiving objects:  64% (361/563), 1.66 MiB | 3.31 MiB/s   \rReceiving objects:  65% (366/563), 1.66 MiB | 3.31 MiB/s   \rReceiving objects:  66% (372/563), 1.66 MiB | 3.31 MiB/s   \rReceiving objects:  67% (378/563), 1.66 MiB | 3.31 MiB/s   \rReceiving objects:  68% (383/563), 1.66 MiB | 3.31 MiB/s   \rReceiving objects:  69% (389/563), 1.66 MiB | 3.31 MiB/s   \rReceiving objects:  70% (395/563), 1.66 MiB | 3.31 MiB/s   \rReceiving objects:  71% (400/563), 1.66 MiB | 3.31 MiB/s   \rReceiving objects:  72% (406/563), 1.66 MiB | 3.31 MiB/s   \rReceiving objects:  73% (411/563), 1.66 MiB | 3.31 MiB/s   \rReceiving objects:  74% (417/563), 1.66 MiB | 3.31 MiB/s   \rReceiving objects:  75% (423/563), 1.66 MiB | 3.31 MiB/s   \rReceiving objects:  76% (428/563), 1.66 MiB | 3.31 MiB/s   \rReceiving objects:  77% (434/563), 1.66 MiB | 3.31 MiB/s   \rReceiving objects:  78% (440/563), 1.66 MiB | 3.31 MiB/s   \rReceiving objects:  79% (445/563), 1.66 MiB | 3.31 MiB/s   \rReceiving objects:  80% (451/563), 1.66 MiB | 3.31 MiB/s   \rReceiving objects:  81% (457/563), 1.66 MiB | 3.31 MiB/s   \rReceiving objects:  82% (462/563), 1.66 MiB | 3.31 MiB/s   \rReceiving objects:  83% (468/563), 1.66 MiB | 3.31 MiB/s   \rReceiving objects:  84% (473/563), 1.66 MiB | 3.31 MiB/s   \rReceiving objects:  85% (479/563), 1.66 MiB | 3.31 MiB/s   \rReceiving objects:  86% (485/563), 1.66 MiB | 3.31 MiB/s   \rReceiving objects:  87% (490/563), 1.66 MiB | 3.31 MiB/s   \rReceiving objects:  88% (496/563), 1.66 MiB | 3.31 MiB/s   \rReceiving objects:  89% (502/563), 1.66 MiB | 3.31 MiB/s   \rReceiving objects:  90% (507/563), 1.66 MiB | 3.31 MiB/s   \rReceiving objects:  91% (513/563), 1.66 MiB | 3.31 MiB/s   \rReceiving objects:  92% (518/563), 1.66 MiB | 3.31 MiB/s   \rReceiving objects:  93% (524/563), 1.66 MiB | 3.31 MiB/s   \rReceiving objects:  94% (530/563), 1.66 MiB | 3.31 MiB/s   \rReceiving objects:  95% (535/563), 1.66 MiB | 3.31 MiB/s   \rReceiving objects:  96% (541/563), 1.66 MiB | 3.31 MiB/s   \rReceiving objects:  97% (547/563), 1.66 MiB | 3.31 MiB/s   \rReceiving objects:  98% (552/563), 1.66 MiB | 3.31 MiB/s   \rReceiving objects:  99% (558/563), 1.66 MiB | 3.31 MiB/s   \rReceiving objects: 100% (563/563), 1.66 MiB | 3.31 MiB/s   \rReceiving objects: 100% (563/563), 3.51 MiB | 5.58 MiB/s, done.\n",
            "Resolving deltas:   0% (0/340)   \rResolving deltas:   2% (9/340)   \rResolving deltas:   5% (17/340)   \rResolving deltas:   9% (32/340)   \rResolving deltas:  11% (38/340)   \rResolving deltas:  12% (44/340)   \rResolving deltas:  14% (48/340)   \rResolving deltas:  15% (51/340)   \rResolving deltas:  17% (60/340)   \rResolving deltas:  18% (62/340)   \rResolving deltas:  19% (65/340)   \rResolving deltas:  20% (68/340)   \rResolving deltas:  21% (73/340)   \rResolving deltas:  24% (84/340)   \rResolving deltas:  25% (88/340)   \rResolving deltas:  30% (103/340)   \rResolving deltas:  31% (106/340)   \rResolving deltas:  33% (114/340)   \rResolving deltas:  34% (116/340)   \rResolving deltas:  40% (139/340)   \rResolving deltas:  57% (194/340)   \rResolving deltas:  63% (216/340)   \rResolving deltas:  64% (218/340)   \rResolving deltas:  65% (222/340)   \rResolving deltas:  66% (226/340)   \rResolving deltas:  67% (228/340)   \rResolving deltas:  69% (237/340)   \rResolving deltas:  72% (246/340)   \rResolving deltas:  76% (259/340)   \rResolving deltas:  92% (316/340)   \rResolving deltas:  93% (318/340)   \rResolving deltas:  94% (320/340)   \rResolving deltas:  95% (323/340)   \rResolving deltas: 100% (340/340)   \rResolving deltas: 100% (340/340), done.\n"
          ],
          "name": "stdout"
        }
      ]
    },
    {
      "cell_type": "code",
      "metadata": {
        "id": "Gg2-n5PrNC4i",
        "colab_type": "code",
        "colab": {
          "base_uri": "https://localhost:8080/",
          "height": 51
        },
        "outputId": "bdd941a1-ee05-4c68-c52a-4839ec8292f7"
      },
      "source": [
        "ls"
      ],
      "execution_count": null,
      "outputs": [
        {
          "output_type": "stream",
          "text": [
            "\u001b[0m\u001b[01;34mconda\u001b[0m/      \u001b[01;34mdocs\u001b[0m/      \u001b[01;34mface_alignment\u001b[0m/  README.md         setup.cfg  \u001b[01;34mtest\u001b[0m/\n",
            "Dockerfile  \u001b[01;34mexamples\u001b[0m/  LICENSE          requirements.txt  setup.py   tox.ini\n"
          ],
          "name": "stdout"
        }
      ]
    },
    {
      "cell_type": "code",
      "metadata": {
        "id": "vCfIG_pCEwKo",
        "colab_type": "code",
        "colab": {
          "base_uri": "https://localhost:8080/",
          "height": 34
        },
        "outputId": "67465564-1ccc-4344-98ed-a70c964c0698"
      },
      "source": [
        "cd face-alignment/"
      ],
      "execution_count": null,
      "outputs": [
        {
          "output_type": "stream",
          "text": [
            "/content/gdrive/My Drive/deepfake/first-order-model/face-alignment\n"
          ],
          "name": "stdout"
        }
      ]
    },
    {
      "cell_type": "markdown",
      "metadata": {
        "id": "kOK908ACfvWj",
        "colab_type": "text"
      },
      "source": [
        "Install the face-alignment requirements"
      ]
    },
    {
      "cell_type": "code",
      "metadata": {
        "id": "F4Fx8611E3bv",
        "colab_type": "code",
        "colab": {
          "base_uri": "https://localhost:8080/",
          "height": 292
        },
        "outputId": "fe3ca3d8-1622-43bf-ccde-7eafcf671be3"
      },
      "source": [
        "!pip install -r requirements.txt"
      ],
      "execution_count": null,
      "outputs": [
        {
          "output_type": "stream",
          "text": [
            "Requirement already satisfied: opencv-python in /usr/local/lib/python3.6/dist-packages (from -r requirements.txt (line 1)) (4.1.2.30)\n",
            "Requirement already satisfied: scipy>=0.17.0 in /usr/local/lib/python3.6/dist-packages (from -r requirements.txt (line 2)) (1.4.1)\n",
            "Requirement already satisfied: scikit-image in /usr/local/lib/python3.6/dist-packages (from -r requirements.txt (line 3)) (0.16.2)\n",
            "Requirement already satisfied: numpy>=1.11.3 in /usr/local/lib/python3.6/dist-packages (from opencv-python->-r requirements.txt (line 1)) (1.18.5)\n",
            "Requirement already satisfied: matplotlib!=3.0.0,>=2.0.0 in /usr/local/lib/python3.6/dist-packages (from scikit-image->-r requirements.txt (line 3)) (3.2.1)\n",
            "Requirement already satisfied: pillow>=4.3.0 in /usr/local/lib/python3.6/dist-packages (from scikit-image->-r requirements.txt (line 3)) (7.0.0)\n",
            "Requirement already satisfied: PyWavelets>=0.4.0 in /usr/local/lib/python3.6/dist-packages (from scikit-image->-r requirements.txt (line 3)) (1.1.1)\n",
            "Requirement already satisfied: imageio>=2.3.0 in /usr/local/lib/python3.6/dist-packages (from scikit-image->-r requirements.txt (line 3)) (2.4.1)\n",
            "Requirement already satisfied: networkx>=2.0 in /usr/local/lib/python3.6/dist-packages (from scikit-image->-r requirements.txt (line 3)) (2.4)\n",
            "Requirement already satisfied: cycler>=0.10 in /usr/local/lib/python3.6/dist-packages (from matplotlib!=3.0.0,>=2.0.0->scikit-image->-r requirements.txt (line 3)) (0.10.0)\n",
            "Requirement already satisfied: python-dateutil>=2.1 in /usr/local/lib/python3.6/dist-packages (from matplotlib!=3.0.0,>=2.0.0->scikit-image->-r requirements.txt (line 3)) (2.8.1)\n",
            "Requirement already satisfied: pyparsing!=2.0.4,!=2.1.2,!=2.1.6,>=2.0.1 in /usr/local/lib/python3.6/dist-packages (from matplotlib!=3.0.0,>=2.0.0->scikit-image->-r requirements.txt (line 3)) (2.4.7)\n",
            "Requirement already satisfied: kiwisolver>=1.0.1 in /usr/local/lib/python3.6/dist-packages (from matplotlib!=3.0.0,>=2.0.0->scikit-image->-r requirements.txt (line 3)) (1.2.0)\n",
            "Requirement already satisfied: decorator>=4.3.0 in /usr/local/lib/python3.6/dist-packages (from networkx>=2.0->scikit-image->-r requirements.txt (line 3)) (4.4.2)\n",
            "Requirement already satisfied: six in /usr/local/lib/python3.6/dist-packages (from cycler>=0.10->matplotlib!=3.0.0,>=2.0.0->scikit-image->-r requirements.txt (line 3)) (1.12.0)\n"
          ],
          "name": "stdout"
        }
      ]
    },
    {
      "cell_type": "markdown",
      "metadata": {
        "id": "zLyvghwvf3te",
        "colab_type": "text"
      },
      "source": [
        "Install **Face-Alignment** module"
      ]
    },
    {
      "cell_type": "code",
      "metadata": {
        "id": "lwGJo6AaFCJm",
        "colab_type": "code",
        "colab": {
          "base_uri": "https://localhost:8080/",
          "height": 34
        },
        "outputId": "94ea6fe3-df72-41a3-a893-b966e0415b46"
      },
      "source": [
        "!python setup.py install"
      ],
      "execution_count": null,
      "outputs": [
        {
          "output_type": "stream",
          "text": [
            "python3: can't open file 'setup.py': [Errno 2] No such file or directory\n"
          ],
          "name": "stdout"
        }
      ]
    },
    {
      "cell_type": "markdown",
      "metadata": {
        "id": "VsgVK1EURXkd",
        "colab_type": "text"
      },
      "source": [
        "Pre-trained models and croped videos and pictures are on this **link**\n",
        "\n",
        "**Add folder https://drive.google.com/drive/folders/1kZ1gCnpfU0BnpdU47pLM_TQ6RypDDqgw?usp=sharing  to your google drive.**"
      ]
    },
    {
      "cell_type": "code",
      "metadata": {
        "id": "LP_uZnUCOguA",
        "colab_type": "code",
        "colab": {
          "base_uri": "https://localhost:8080/",
          "height": 34
        },
        "outputId": "6776741f-24a2-4842-b144-308b3ad2e271"
      },
      "source": [
        "cd .."
      ],
      "execution_count": null,
      "outputs": [
        {
          "output_type": "stream",
          "text": [
            "/content/gdrive/My Drive/DeepFakeData/first-order-model\n"
          ],
          "name": "stdout"
        }
      ]
    },
    {
      "cell_type": "code",
      "metadata": {
        "id": "BqxMvrTWOpkm",
        "colab_type": "code",
        "colab": {
          "base_uri": "https://localhost:8080/",
          "height": 153
        },
        "outputId": "8359ea25-22a8-4927-aaa2-7523b73db14e"
      },
      "source": [
        "ls"
      ],
      "execution_count": null,
      "outputs": [
        {
          "output_type": "stream",
          "text": [
            "1559746194.png   demo.py             logger.py          \u001b[0m\u001b[01;34msup-mat\u001b[0m/\n",
            "animate.py       Dockerfile          \u001b[01;34mmodules\u001b[0m/           \u001b[01;34msync_batchnorm\u001b[0m/\n",
            "augmentation.py  enistan.png         \u001b[01;34m__pycache__\u001b[0m/       train.py\n",
            "\u001b[01;34mconfig\u001b[0m/          \u001b[01;34mface-alignment\u001b[0m/     README.md          Untitled.png\n",
            "crop.mp4         \u001b[01;34mFiles\u001b[0m/              reconstruction.py  virat-kohli.png\n",
            "crop-video.py    frames_dataset.py   requirements.txt\n",
            "\u001b[01;34mdata\u001b[0m/            Intro_deepFake.mp4  result.mp4\n",
            "demo.ipynb       LICENSE.md          run.py\n"
          ],
          "name": "stdout"
        }
      ]
    },
    {
      "cell_type": "markdown",
      "metadata": {
        "id": "7MArwWVAgEZ5",
        "colab_type": "text"
      },
      "source": [
        "Crop the your video if it is not croped already"
      ]
    },
    {
      "cell_type": "code",
      "metadata": {
        "id": "pgeH8_C_Os1L",
        "colab_type": "code",
        "colab": {
          "base_uri": "https://localhost:8080/",
          "height": 156
        },
        "outputId": "c997966b-e325-4ab2-9a7e-6d1eddca0360"
      },
      "source": [
        "!python crop-video.py --inp Files/Driving.mp4"
      ],
      "execution_count": null,
      "outputs": [
        {
          "output_type": "stream",
          "text": [
            "Downloading: \"https://www.adrianbulat.com/downloads/python-fan/s3fd-619a316812.pth\" to /root/.cache/torch/checkpoints/s3fd-619a316812.pth\n",
            "100% 85.7M/85.7M [00:00<00:00, 215MB/s]\n",
            "Downloading: \"https://www.adrianbulat.com/downloads/python-fan/2DFAN4-11f355bf06.pth.tar\" to /root/.cache/torch/checkpoints/2DFAN4-11f355bf06.pth.tar\n",
            "100% 91.2M/91.2M [00:00<00:00, 130MB/s]\n",
            "WARNING:root:Warning: the frame size for reading (1080, 1920) is different from the source frame size (1920, 1080).\n",
            "636it [02:35,  4.08it/s]\n",
            "ffmpeg -i Files/Driving.mp4 -ss 0.0 -t 23.588410104011885 -filter:v \"crop=1043:1189:0:203, scale=256:256\" crop.mp4\n"
          ],
          "name": "stdout"
        }
      ]
    },
    {
      "cell_type": "markdown",
      "metadata": {
        "id": "_FGs5nZ2gTdC",
        "colab_type": "text"
      },
      "source": [
        "croping video will generate a **command** copy paste in ipython notebook shell"
      ]
    },
    {
      "cell_type": "code",
      "metadata": {
        "id": "r6DyJyVKP8ZW",
        "colab_type": "code",
        "colab": {
          "base_uri": "https://localhost:8080/",
          "height": 1000
        },
        "outputId": "4463a605-2fea-4304-d13b-a5d6e02f23bc"
      },
      "source": [
        "!ffmpeg -i Files/Driving.mp4 -ss 0.0 -t 23.588410104011885 -filter:v \"crop=1043:1189:0:203, scale=256:256\" crop.mp4"
      ],
      "execution_count": null,
      "outputs": [
        {
          "output_type": "stream",
          "text": [
            "ffmpeg version 3.4.6-0ubuntu0.18.04.1 Copyright (c) 2000-2019 the FFmpeg developers\n",
            "  built with gcc 7 (Ubuntu 7.3.0-16ubuntu3)\n",
            "  configuration: --prefix=/usr --extra-version=0ubuntu0.18.04.1 --toolchain=hardened --libdir=/usr/lib/x86_64-linux-gnu --incdir=/usr/include/x86_64-linux-gnu --enable-gpl --disable-stripping --enable-avresample --enable-avisynth --enable-gnutls --enable-ladspa --enable-libass --enable-libbluray --enable-libbs2b --enable-libcaca --enable-libcdio --enable-libflite --enable-libfontconfig --enable-libfreetype --enable-libfribidi --enable-libgme --enable-libgsm --enable-libmp3lame --enable-libmysofa --enable-libopenjpeg --enable-libopenmpt --enable-libopus --enable-libpulse --enable-librubberband --enable-librsvg --enable-libshine --enable-libsnappy --enable-libsoxr --enable-libspeex --enable-libssh --enable-libtheora --enable-libtwolame --enable-libvorbis --enable-libvpx --enable-libwavpack --enable-libwebp --enable-libx265 --enable-libxml2 --enable-libxvid --enable-libzmq --enable-libzvbi --enable-omx --enable-openal --enable-opengl --enable-sdl2 --enable-libdc1394 --enable-libdrm --enable-libiec61883 --enable-chromaprint --enable-frei0r --enable-libopencv --enable-libx264 --enable-shared\n",
            "  libavutil      55. 78.100 / 55. 78.100\n",
            "  libavcodec     57.107.100 / 57.107.100\n",
            "  libavformat    57. 83.100 / 57. 83.100\n",
            "  libavdevice    57. 10.100 / 57. 10.100\n",
            "  libavfilter     6.107.100 /  6.107.100\n",
            "  libavresample   3.  7.  0 /  3.  7.  0\n",
            "  libswscale      4.  8.100 /  4.  8.100\n",
            "  libswresample   2.  9.100 /  2.  9.100\n",
            "  libpostproc    54.  7.100 / 54.  7.100\n",
            "Input #0, mov,mp4,m4a,3gp,3g2,mj2, from 'Files/Driving.mp4':\n",
            "  Metadata:\n",
            "    major_brand     : mp42\n",
            "    minor_version   : 0\n",
            "    compatible_brands: isommp42\n",
            "    creation_time   : 2020-06-13T00:38:48.000000Z\n",
            "    com.android.version: 9\n",
            "  Duration: 00:00:23.64, start: 0.000000, bitrate: 17256 kb/s\n",
            "    Stream #0:0(eng): Video: h264 (Baseline) (avc1 / 0x31637661), yuv420p(tv, unknown/bt470bg/unknown), 1920x1080, 16991 kb/s, SAR 1:1 DAR 16:9, 26.90 fps, 26.92 tbr, 90k tbn, 180k tbc (default)\n",
            "    Metadata:\n",
            "      rotate          : 270\n",
            "      creation_time   : 2020-06-13T00:38:48.000000Z\n",
            "      handler_name    : VideoHandle\n",
            "    Side data:\n",
            "      displaymatrix: rotation of 90.00 degrees\n",
            "    Stream #0:1(eng): Audio: aac (LC) (mp4a / 0x6134706D), 48000 Hz, mono, fltp, 128 kb/s (default)\n",
            "    Metadata:\n",
            "      creation_time   : 2020-06-13T00:38:48.000000Z\n",
            "      handler_name    : SoundHandle\n",
            "Stream mapping:\n",
            "  Stream #0:0 -> #0:0 (h264 (native) -> h264 (libx264))\n",
            "  Stream #0:1 -> #0:1 (aac (native) -> aac (native))\n",
            "Press [q] to stop, [?] for help\n",
            "\u001b[1;36m[libx264 @ 0x56426eb92800] \u001b[0musing SAR=521/594\n",
            "\u001b[1;36m[libx264 @ 0x56426eb92800] \u001b[0musing cpu capabilities: MMX2 SSE2Fast SSSE3 SSE4.2 AVX FMA3 BMI2 AVX2 AVX512\n",
            "\u001b[1;36m[libx264 @ 0x56426eb92800] \u001b[0mprofile High, level 1.3\n",
            "\u001b[1;36m[libx264 @ 0x56426eb92800] \u001b[0m264 - core 152 r2854 e9a5903 - H.264/MPEG-4 AVC codec - Copyleft 2003-2017 - http://www.videolan.org/x264.html - options: cabac=1 ref=3 deblock=1:0:0 analyse=0x3:0x113 me=hex subme=7 psy=1 psy_rd=1.00:0.00 mixed_ref=1 me_range=16 chroma_me=1 trellis=1 8x8dct=1 cqm=0 deadzone=21,11 fast_pskip=1 chroma_qp_offset=-2 threads=3 lookahead_threads=1 sliced_threads=0 nr=0 decimate=1 interlaced=0 bluray_compat=0 constrained_intra=0 bframes=3 b_pyramid=2 b_adapt=1 b_bias=0 direct=1 weightb=1 open_gop=0 weightp=2 keyint=250 keyint_min=25 scenecut=40 intra_refresh=0 rc_lookahead=40 rc=crf mbtree=1 crf=23.0 qcomp=0.60 qpmin=0 qpmax=69 qpstep=4 ip_ratio=1.40 aq=1:1.00\n",
            "Output #0, mp4, to 'crop.mp4':\n",
            "  Metadata:\n",
            "    major_brand     : mp42\n",
            "    minor_version   : 0\n",
            "    compatible_brands: isommp42\n",
            "    com.android.version: 9\n",
            "    encoder         : Lavf57.83.100\n",
            "    Stream #0:0(eng): Video: h264 (libx264) (avc1 / 0x31637661), yuv420p, 256x256 [SAR 521:594 DAR 521:594], q=-1--1, 26.92 fps, 10336 tbn, 26.92 tbc (default)\n",
            "    Metadata:\n",
            "      encoder         : Lavc57.107.100 libx264\n",
            "      creation_time   : 2020-06-13T00:38:48.000000Z\n",
            "      handler_name    : VideoHandle\n",
            "    Side data:\n",
            "      cpb: bitrate max/min/avg: 0/0/0 buffer size: 0 vbv_delay: -1\n",
            "      displaymatrix: rotation of -0.00 degrees\n",
            "    Stream #0:1(eng): Audio: aac (LC) (mp4a / 0x6134706D), 48000 Hz, mono, fltp, 69 kb/s (default)\n",
            "    Metadata:\n",
            "      creation_time   : 2020-06-13T00:38:48.000000Z\n",
            "      handler_name    : SoundHandle\n",
            "      encoder         : Lavc57.107.100 aac\n",
            "frame=  635 fps= 68 q=-1.0 Lsize=     817kB time=00:00:23.59 bitrate= 283.6kbits/s speed=2.51x    \n",
            "video:593kB audio:202kB subtitle:0kB other streams:0kB global headers:0kB muxing overhead: 2.756248%\n",
            "\u001b[1;36m[libx264 @ 0x56426eb92800] \u001b[0mframe I:3     Avg QP:19.49  size:  9635\n",
            "\u001b[1;36m[libx264 @ 0x56426eb92800] \u001b[0mframe P:170   Avg QP:24.52  size:  2451\n",
            "\u001b[1;36m[libx264 @ 0x56426eb92800] \u001b[0mframe B:462   Avg QP:28.94  size:   348\n",
            "\u001b[1;36m[libx264 @ 0x56426eb92800] \u001b[0mconsecutive B-frames:  1.7%  3.1%  1.9% 93.2%\n",
            "\u001b[1;36m[libx264 @ 0x56426eb92800] \u001b[0mmb I  I16..4: 14.7% 46.0% 39.3%\n",
            "\u001b[1;36m[libx264 @ 0x56426eb92800] \u001b[0mmb P  I16..4:  0.7%  2.6%  0.7%  P16..4: 30.2% 22.8% 14.5%  0.0%  0.0%    skip:28.6%\n",
            "\u001b[1;36m[libx264 @ 0x56426eb92800] \u001b[0mmb B  I16..4:  0.0%  0.1%  0.0%  B16..8: 38.9%  6.6%  1.3%  direct: 1.5%  skip:51.6%  L0:42.5% L1:48.2% BI: 9.3%\n",
            "\u001b[1;36m[libx264 @ 0x56426eb92800] \u001b[0m8x8 transform intra:61.0% inter:51.5%\n",
            "\u001b[1;36m[libx264 @ 0x56426eb92800] \u001b[0mcoded y,uvDC,uvAC intra: 43.9% 48.0% 33.4% inter: 12.9% 7.9% 0.4%\n",
            "\u001b[1;36m[libx264 @ 0x56426eb92800] \u001b[0mi16 v,h,dc,p: 63% 25% 11%  2%\n",
            "\u001b[1;36m[libx264 @ 0x56426eb92800] \u001b[0mi8 v,h,dc,ddl,ddr,vr,hd,vl,hu: 11% 14% 52%  2%  4%  4%  5%  3%  5%\n",
            "\u001b[1;36m[libx264 @ 0x56426eb92800] \u001b[0mi4 v,h,dc,ddl,ddr,vr,hd,vl,hu: 13% 14% 22%  5% 13%  9% 11%  6%  7%\n",
            "\u001b[1;36m[libx264 @ 0x56426eb92800] \u001b[0mi8c dc,h,v,p: 56% 27% 13%  5%\n",
            "\u001b[1;36m[libx264 @ 0x56426eb92800] \u001b[0mWeighted P-Frames: Y:7.1% UV:2.9%\n",
            "\u001b[1;36m[libx264 @ 0x56426eb92800] \u001b[0mref P L0: 57.5% 18.1% 13.7% 10.1%  0.5%\n",
            "\u001b[1;36m[libx264 @ 0x56426eb92800] \u001b[0mref B L0: 84.7% 11.6%  3.7%\n",
            "\u001b[1;36m[libx264 @ 0x56426eb92800] \u001b[0mref B L1: 93.0%  7.0%\n",
            "\u001b[1;36m[libx264 @ 0x56426eb92800] \u001b[0mkb/s:205.62\n",
            "\u001b[1;36m[aac @ 0x56426eb93700] \u001b[0mQavg: 366.920\n"
          ],
          "name": "stdout"
        }
      ]
    },
    {
      "cell_type": "code",
      "metadata": {
        "id": "fbFc1Hq6-nfc",
        "colab_type": "code",
        "colab": {
          "base_uri": "https://localhost:8080/",
          "height": 357
        },
        "outputId": "62f1ccea-6a27-4743-c42a-9362c350136a"
      },
      "source": [
        "!nvidia-smi"
      ],
      "execution_count": null,
      "outputs": [
        {
          "output_type": "stream",
          "text": [
            "Tue Jun 23 21:00:01 2020       \n",
            "+-----------------------------------------------------------------------------+\n",
            "| NVIDIA-SMI 450.36.06    Driver Version: 418.67       CUDA Version: 10.1     |\n",
            "|-------------------------------+----------------------+----------------------+\n",
            "| GPU  Name        Persistence-M| Bus-Id        Disp.A | Volatile Uncorr. ECC |\n",
            "| Fan  Temp  Perf  Pwr:Usage/Cap|         Memory-Usage | GPU-Util  Compute M. |\n",
            "|                               |                      |               MIG M. |\n",
            "|===============================+======================+======================|\n",
            "|   0  Tesla T4            Off  | 00000000:00:04.0 Off |                    0 |\n",
            "| N/A   48C    P8    12W /  70W |      0MiB / 15079MiB |      0%      Default |\n",
            "|                               |                      |                 ERR! |\n",
            "+-------------------------------+----------------------+----------------------+\n",
            "                                                                               \n",
            "+-----------------------------------------------------------------------------+\n",
            "| Processes:                                                                  |\n",
            "|  GPU   GI   CI        PID   Type   Process name                  GPU Memory |\n",
            "|        ID   ID                                                   Usage      |\n",
            "|=============================================================================|\n",
            "|  No running processes found                                                 |\n",
            "+-----------------------------------------------------------------------------+\n"
          ],
          "name": "stdout"
        }
      ]
    },
    {
      "cell_type": "code",
      "metadata": {
        "id": "2i3pW2oBijhd",
        "colab_type": "code",
        "colab": {
          "base_uri": "https://localhost:8080/",
          "height": 34
        },
        "outputId": "a5c4313d-ba9e-4f34-a4c2-6bb79b0f9491"
      },
      "source": [
        "cd .."
      ],
      "execution_count": null,
      "outputs": [
        {
          "output_type": "stream",
          "text": [
            "/content/gdrive/My Drive/deepfake/first-order-model\n"
          ],
          "name": "stdout"
        }
      ]
    },
    {
      "cell_type": "markdown",
      "metadata": {
        "id": "oKIY1BbRLCfp",
        "colab_type": "text"
      },
      "source": [
        "Run following command to create **deep fake**\n",
        "\n",
        "\n",
        "\n",
        "## Follow the following instrction in order get best results\n",
        "\n",
        "1.   your source image must be 256x256 size\n",
        "2.   If your using your own video than you must crop your video using face-alignment module mentioned above, the size of that video will be 256x256 by default\n",
        "3.   Align the your image with driving video first frame, you can using any video editor to do this, otherwise your resultant video would be massy and all over the place..\n",
        "New section\n",
        "\n",
        "\n",
        "\n"
      ]
    },
    {
      "cell_type": "code",
      "metadata": {
        "id": "VRHkE6MZQPO-",
        "colab_type": "code",
        "colab": {
          "base_uri": "https://localhost:8080/",
          "height": 207
        },
        "outputId": "e92b3529-cca8-4695-947e-507890c05625"
      },
      "source": [
        "!python demo.py  --config config/vox-adv-256.yaml --driving_video crop2.mp4 --source_image obma.png --checkpoint Files/vox-adv-cpk.pth.tar --relative --adapt_scale"
      ],
      "execution_count": null,
      "outputs": [
        {
          "output_type": "stream",
          "text": [
            "tcmalloc: large alloc 1137180672 bytes == 0xc188c000 @  0x7fcae4fcc1e7 0x7fcae1a415e1 0x7fcae1aa5c78 0x7fcae1aa8db8 0x7fcae1aa9395 0x7fcae1b4065d 0x50a635 0x50bfb4 0x507d64 0x509a90 0x50a48d 0x50cd96 0x507d64 0x50ae13 0x634c82 0x634d37 0x6384ef 0x639091 0x4b0d00 0x7fcae4bc9b97 0x5b250a\n",
            "/usr/local/lib/python3.6/dist-packages/torch/nn/functional.py:2854: UserWarning: The default behavior for interpolate/upsample with float scale_factor will change in 1.6.0 to align with other frameworks/libraries, and use scale_factor directly, instead of relying on the computed output size. If you wish to keep the old behavior, please set recompute_scale_factor=True. See the documentation of nn.Upsample for details. \n",
            "  warnings.warn(\"The default behavior for interpolate/upsample with float scale_factor will change \"\n",
            "  0% 0/723 [00:00<?, ?it/s]/usr/local/lib/python3.6/dist-packages/torch/nn/functional.py:3226: UserWarning: Default grid_sample and affine_grid behavior has changed to align_corners=False since 1.3.0. Please specify align_corners=True if the old behavior is desired. See the documentation of grid_sample for details.\n",
            "  warnings.warn(\"Default grid_sample and affine_grid behavior has changed \"\n",
            "/usr/local/lib/python3.6/dist-packages/torch/nn/functional.py:2973: UserWarning: Default upsampling behavior when mode=bilinear is changed to align_corners=False since 0.4.0. Please specify align_corners=True if the old behavior is desired. See the documentation of nn.Upsample for details.\n",
            "  \"See the documentation of nn.Upsample for details.\".format(mode))\n",
            "/usr/local/lib/python3.6/dist-packages/torch/nn/functional.py:1569: UserWarning: nn.functional.sigmoid is deprecated. Use torch.sigmoid instead.\n",
            "  warnings.warn(\"nn.functional.sigmoid is deprecated. Use torch.sigmoid instead.\")\n",
            "100% 723/723 [00:36<00:00, 19.58it/s]\n"
          ],
          "name": "stdout"
        }
      ]
    },
    {
      "cell_type": "markdown",
      "metadata": {
        "id": "aL9xk37mjhxB",
        "colab_type": "text"
      },
      "source": [
        "check out you will have the **result.mp4** in first order model directory "
      ]
    },
    {
      "cell_type": "code",
      "metadata": {
        "id": "UxspGTnfjgZN",
        "colab_type": "code",
        "colab": {
          "base_uri": "https://localhost:8080/",
          "height": 272
        },
        "outputId": "0d0d15bf-847a-4c18-9cf7-9d274f65db38"
      },
      "source": [
        "ls"
      ],
      "execution_count": null,
      "outputs": [
        {
          "output_type": "stream",
          "text": [
            " animate.py               \u001b[0m\u001b[01;34mface-alignment\u001b[0m/     'result2 (1).mp4'\n",
            " augmentation.py          \u001b[01;34mFiles\u001b[0m/               result2.mp4\n",
            " \u001b[01;34mconfig\u001b[0m/                  frames_dataset.py    result32.mp4\n",
            "'Copy of 12.png'          girl.jpg             result4.mp4\n",
            "'Copy of doll-02.png'     Intro_deepFake.mp4   result5.mp4\n",
            "'Copy of got-08.png'      Koli.png             result.mp4\n",
            "'Copy of statue-01.png'   LICENSE.md           reuslt3.mp4\n",
            " crop2.mp4                logger.py            run.py\n",
            " crop.mp4                 \u001b[01;34mmodules\u001b[0m/             statue-03.png\n",
            " crop-video.py            obma.png             statue-04.png\n",
            " \u001b[01;34mdata\u001b[0m/                    \u001b[01;34m__pycache__\u001b[0m/         \u001b[01;34msup-mat\u001b[0m/\n",
            " demo.ipynb               README.md            \u001b[01;34msync_batchnorm\u001b[0m/\n",
            " demo.py                  reconstruction.py    train.py\n",
            " Dockerfile               requirements.txt     Untitled.png\n",
            " enistan.png              result1.mp4          virat-kohli.png\n"
          ],
          "name": "stdout"
        }
      ]
    }
  ]
}